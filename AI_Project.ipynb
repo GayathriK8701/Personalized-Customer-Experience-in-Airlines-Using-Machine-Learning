{
  "nbformat": 4,
  "nbformat_minor": 0,
  "metadata": {
    "colab": {
      "provenance": []
    },
    "kernelspec": {
      "name": "python3",
      "display_name": "Python 3"
    },
    "language_info": {
      "name": "python"
    }
  },
  "cells": [
    {
      "cell_type": "code",
      "execution_count": 1,
      "metadata": {
        "id": "QbHMOM81sqfX"
      },
      "outputs": [],
      "source": [
        "import pandas as pd"
      ]
    },
    {
      "cell_type": "code",
      "source": [
        "data_url = \"https://www.kaggleusercontent.com/datasets/teejmahal20/airline-passenger-satisfaction/download\"  # Example link\n",
        "df = pd.read_csv(\"Airline-Satisfaction.csv\")  # Replace with actual dataset\n",
        "print(df.head())"
      ],
      "metadata": {
        "colab": {
          "base_uri": "https://localhost:8080/"
        },
        "id": "xMxo7DdfsyYA",
        "outputId": "3d915d5c-4f39-48f4-c882-8574842bb973"
      },
      "execution_count": 6,
      "outputs": [
        {
          "output_type": "stream",
          "name": "stdout",
          "text": [
            "   Unnamed: 0     id  Gender      Customer Type  Age   Type of Travel  \\\n",
            "0           0  19556  Female     Loyal Customer   52  Business travel   \n",
            "1           1  90035  Female     Loyal Customer   36  Business travel   \n",
            "2           2  12360    Male  disloyal Customer   20  Business travel   \n",
            "3           3  77959    Male     Loyal Customer   44  Business travel   \n",
            "4           4  36875  Female     Loyal Customer   49  Business travel   \n",
            "\n",
            "      Class  Flight Distance  Inflight wifi service  \\\n",
            "0       Eco              160                      5   \n",
            "1  Business             2863                      1   \n",
            "2       Eco              192                      2   \n",
            "3  Business             3377                      0   \n",
            "4       Eco             1182                      2   \n",
            "\n",
            "   Departure/Arrival time convenient  ...  Inflight entertainment  \\\n",
            "0                                  4  ...                       5   \n",
            "1                                  1  ...                       4   \n",
            "2                                  0  ...                       2   \n",
            "3                                  0  ...                       1   \n",
            "4                                  3  ...                       2   \n",
            "\n",
            "   On-board service  Leg room service  Baggage handling  Checkin service  \\\n",
            "0                 5                 5                 5                2   \n",
            "1                 4                 4                 4                3   \n",
            "2                 4                 1                 3                2   \n",
            "3                 1                 1                 1                3   \n",
            "4                 2                 2                 2                4   \n",
            "\n",
            "   Inflight service  Cleanliness  Departure Delay in Minutes  \\\n",
            "0                 5            5                          50   \n",
            "1                 4            5                           0   \n",
            "2                 2            2                           0   \n",
            "3                 1            4                           0   \n",
            "4                 2            4                           0   \n",
            "\n",
            "   Arrival Delay in Minutes             satisfaction  \n",
            "0                      44.0                satisfied  \n",
            "1                       0.0                satisfied  \n",
            "2                       0.0  neutral or dissatisfied  \n",
            "3                       6.0                satisfied  \n",
            "4                      20.0                satisfied  \n",
            "\n",
            "[5 rows x 25 columns]\n"
          ]
        }
      ]
    },
    {
      "cell_type": "code",
      "source": [
        "# Check data types and first few rows\n",
        "print(df.info())\n",
        "print(df.head())\n"
      ],
      "metadata": {
        "colab": {
          "base_uri": "https://localhost:8080/"
        },
        "id": "PRILbaeyth-R",
        "outputId": "34b5eae2-76e9-400e-9f31-93cb133349fd"
      },
      "execution_count": 8,
      "outputs": [
        {
          "output_type": "stream",
          "name": "stdout",
          "text": [
            "<class 'pandas.core.frame.DataFrame'>\n",
            "RangeIndex: 25976 entries, 0 to 25975\n",
            "Data columns (total 25 columns):\n",
            " #   Column                             Non-Null Count  Dtype  \n",
            "---  ------                             --------------  -----  \n",
            " 0   Unnamed: 0                         25976 non-null  int64  \n",
            " 1   id                                 25976 non-null  int64  \n",
            " 2   Gender                             25976 non-null  object \n",
            " 3   Customer Type                      25976 non-null  object \n",
            " 4   Age                                25976 non-null  int64  \n",
            " 5   Type of Travel                     25976 non-null  object \n",
            " 6   Class                              25976 non-null  object \n",
            " 7   Flight Distance                    25976 non-null  int64  \n",
            " 8   Inflight wifi service              25976 non-null  int64  \n",
            " 9   Departure/Arrival time convenient  25976 non-null  int64  \n",
            " 10  Ease of Online booking             25976 non-null  int64  \n",
            " 11  Gate location                      25976 non-null  int64  \n",
            " 12  Food and drink                     25976 non-null  int64  \n",
            " 13  Online boarding                    25976 non-null  int64  \n",
            " 14  Seat comfort                       25976 non-null  int64  \n",
            " 15  Inflight entertainment             25976 non-null  int64  \n",
            " 16  On-board service                   25976 non-null  int64  \n",
            " 17  Leg room service                   25976 non-null  int64  \n",
            " 18  Baggage handling                   25976 non-null  int64  \n",
            " 19  Checkin service                    25976 non-null  int64  \n",
            " 20  Inflight service                   25976 non-null  int64  \n",
            " 21  Cleanliness                        25976 non-null  int64  \n",
            " 22  Departure Delay in Minutes         25976 non-null  int64  \n",
            " 23  Arrival Delay in Minutes           25893 non-null  float64\n",
            " 24  satisfaction                       25976 non-null  object \n",
            "dtypes: float64(1), int64(19), object(5)\n",
            "memory usage: 5.0+ MB\n",
            "None\n",
            "   Unnamed: 0     id  Gender      Customer Type  Age   Type of Travel  \\\n",
            "0           0  19556  Female     Loyal Customer   52  Business travel   \n",
            "1           1  90035  Female     Loyal Customer   36  Business travel   \n",
            "2           2  12360    Male  disloyal Customer   20  Business travel   \n",
            "3           3  77959    Male     Loyal Customer   44  Business travel   \n",
            "4           4  36875  Female     Loyal Customer   49  Business travel   \n",
            "\n",
            "      Class  Flight Distance  Inflight wifi service  \\\n",
            "0       Eco              160                      5   \n",
            "1  Business             2863                      1   \n",
            "2       Eco              192                      2   \n",
            "3  Business             3377                      0   \n",
            "4       Eco             1182                      2   \n",
            "\n",
            "   Departure/Arrival time convenient  ...  Inflight entertainment  \\\n",
            "0                                  4  ...                       5   \n",
            "1                                  1  ...                       4   \n",
            "2                                  0  ...                       2   \n",
            "3                                  0  ...                       1   \n",
            "4                                  3  ...                       2   \n",
            "\n",
            "   On-board service  Leg room service  Baggage handling  Checkin service  \\\n",
            "0                 5                 5                 5                2   \n",
            "1                 4                 4                 4                3   \n",
            "2                 4                 1                 3                2   \n",
            "3                 1                 1                 1                3   \n",
            "4                 2                 2                 2                4   \n",
            "\n",
            "   Inflight service  Cleanliness  Departure Delay in Minutes  \\\n",
            "0                 5            5                          50   \n",
            "1                 4            5                           0   \n",
            "2                 2            2                           0   \n",
            "3                 1            4                           0   \n",
            "4                 2            4                           0   \n",
            "\n",
            "   Arrival Delay in Minutes             satisfaction  \n",
            "0                      44.0                satisfied  \n",
            "1                       0.0                satisfied  \n",
            "2                       0.0  neutral or dissatisfied  \n",
            "3                       6.0                satisfied  \n",
            "4                      20.0                satisfied  \n",
            "\n",
            "[5 rows x 25 columns]\n"
          ]
        }
      ]
    },
    {
      "cell_type": "code",
      "source": [
        "from sklearn.preprocessing import LabelEncoder\n",
        "\n",
        "# Example: Encoding 'Gender' and other categorical columns\n",
        "categorical_columns = ['Gender', 'Customer Type', 'Type of Travel', 'Class']\n",
        "encoder = LabelEncoder()\n",
        "\n",
        "for col in categorical_columns:\n",
        "    df[col] = encoder.fit_transform(df[col])\n",
        "\n",
        "print(df.head())  # Verify the transformation\n"
      ],
      "metadata": {
        "colab": {
          "base_uri": "https://localhost:8080/"
        },
        "id": "Y73kgH6Stk5m",
        "outputId": "2e2135e9-7b88-4b87-a30d-2fe1851ee293"
      },
      "execution_count": 9,
      "outputs": [
        {
          "output_type": "stream",
          "name": "stdout",
          "text": [
            "   Unnamed: 0     id  Gender  Customer Type  Age  Type of Travel  Class  \\\n",
            "0           0  19556       0              0   52               0      1   \n",
            "1           1  90035       0              0   36               0      0   \n",
            "2           2  12360       1              1   20               0      1   \n",
            "3           3  77959       1              0   44               0      0   \n",
            "4           4  36875       0              0   49               0      1   \n",
            "\n",
            "   Flight Distance  Inflight wifi service  Departure/Arrival time convenient  \\\n",
            "0              160                      5                                  4   \n",
            "1             2863                      1                                  1   \n",
            "2              192                      2                                  0   \n",
            "3             3377                      0                                  0   \n",
            "4             1182                      2                                  3   \n",
            "\n",
            "   ...  Inflight entertainment  On-board service  Leg room service  \\\n",
            "0  ...                       5                 5                 5   \n",
            "1  ...                       4                 4                 4   \n",
            "2  ...                       2                 4                 1   \n",
            "3  ...                       1                 1                 1   \n",
            "4  ...                       2                 2                 2   \n",
            "\n",
            "   Baggage handling  Checkin service  Inflight service  Cleanliness  \\\n",
            "0                 5                2                 5            5   \n",
            "1                 4                3                 4            5   \n",
            "2                 3                2                 2            2   \n",
            "3                 1                3                 1            4   \n",
            "4                 2                4                 2            4   \n",
            "\n",
            "   Departure Delay in Minutes  Arrival Delay in Minutes  \\\n",
            "0                          50                      44.0   \n",
            "1                           0                       0.0   \n",
            "2                           0                       0.0   \n",
            "3                           0                       6.0   \n",
            "4                           0                      20.0   \n",
            "\n",
            "              satisfaction  \n",
            "0                satisfied  \n",
            "1                satisfied  \n",
            "2  neutral or dissatisfied  \n",
            "3                satisfied  \n",
            "4                satisfied  \n",
            "\n",
            "[5 rows x 25 columns]\n"
          ]
        }
      ]
    },
    {
      "cell_type": "code",
      "source": [
        "# OneHotEncoding for categorical columns\n",
        "df = pd.get_dummies(df, columns=categorical_columns, drop_first=True)\n",
        "print(df.head())  # Verify dummy variable creation\n"
      ],
      "metadata": {
        "colab": {
          "base_uri": "https://localhost:8080/"
        },
        "id": "FHDrS-L3tpIn",
        "outputId": "4692bbab-d73c-43ce-cb20-6ab7814077d4"
      },
      "execution_count": 10,
      "outputs": [
        {
          "output_type": "stream",
          "name": "stdout",
          "text": [
            "   Unnamed: 0     id  Age  Flight Distance  Inflight wifi service  \\\n",
            "0           0  19556   52              160                      5   \n",
            "1           1  90035   36             2863                      1   \n",
            "2           2  12360   20              192                      2   \n",
            "3           3  77959   44             3377                      0   \n",
            "4           4  36875   49             1182                      2   \n",
            "\n",
            "   Departure/Arrival time convenient  Ease of Online booking  Gate location  \\\n",
            "0                                  4                       3              4   \n",
            "1                                  1                       3              1   \n",
            "2                                  0                       2              4   \n",
            "3                                  0                       0              2   \n",
            "4                                  3                       4              3   \n",
            "\n",
            "   Food and drink  Online boarding  ...  Inflight service  Cleanliness  \\\n",
            "0               3                4  ...                 5            5   \n",
            "1               5                4  ...                 4            5   \n",
            "2               2                2  ...                 2            2   \n",
            "3               3                4  ...                 1            4   \n",
            "4               4                1  ...                 2            4   \n",
            "\n",
            "   Departure Delay in Minutes  Arrival Delay in Minutes  \\\n",
            "0                          50                      44.0   \n",
            "1                           0                       0.0   \n",
            "2                           0                       0.0   \n",
            "3                           0                       6.0   \n",
            "4                           0                      20.0   \n",
            "\n",
            "              satisfaction  Gender_1  Customer Type_1  Type of Travel_1  \\\n",
            "0                satisfied     False            False             False   \n",
            "1                satisfied     False            False             False   \n",
            "2  neutral or dissatisfied      True             True             False   \n",
            "3                satisfied      True            False             False   \n",
            "4                satisfied     False            False             False   \n",
            "\n",
            "   Class_1  Class_2  \n",
            "0     True    False  \n",
            "1    False    False  \n",
            "2     True    False  \n",
            "3    False    False  \n",
            "4     True    False  \n",
            "\n",
            "[5 rows x 26 columns]\n"
          ]
        }
      ]
    },
    {
      "cell_type": "code",
      "source": [
        "print(df.dtypes)\n"
      ],
      "metadata": {
        "colab": {
          "base_uri": "https://localhost:8080/"
        },
        "id": "KCnARmAnt5sT",
        "outputId": "3a2562fc-a173-40d0-ff8b-d764b029dcda"
      },
      "execution_count": 13,
      "outputs": [
        {
          "output_type": "stream",
          "name": "stdout",
          "text": [
            "Unnamed: 0                             int64\n",
            "id                                     int64\n",
            "Age                                    int64\n",
            "Flight Distance                        int64\n",
            "Inflight wifi service                  int64\n",
            "Departure/Arrival time convenient      int64\n",
            "Ease of Online booking                 int64\n",
            "Gate location                          int64\n",
            "Food and drink                         int64\n",
            "Online boarding                        int64\n",
            "Seat comfort                           int64\n",
            "Inflight entertainment                 int64\n",
            "On-board service                       int64\n",
            "Leg room service                       int64\n",
            "Baggage handling                       int64\n",
            "Checkin service                        int64\n",
            "Inflight service                       int64\n",
            "Cleanliness                            int64\n",
            "Departure Delay in Minutes             int64\n",
            "Arrival Delay in Minutes             float64\n",
            "satisfaction                          object\n",
            "Gender_1                                bool\n",
            "Customer Type_1                         bool\n",
            "Type of Travel_1                        bool\n",
            "Class_1                                 bool\n",
            "Class_2                                 bool\n",
            "dtype: object\n"
          ]
        }
      ]
    },
    {
      "cell_type": "code",
      "source": [
        "# Convert 'Satisfaction' to numeric if it's still a string\n",
        "if df['satisfaction'].dtype == 'object':\n",
        "    df['satisfaction'] = df['satisfaction'].map({'satisfied': 1, 'neutral or dissatisfied': 0})\n",
        "print(df['satisfaction'].head())\n"
      ],
      "metadata": {
        "colab": {
          "base_uri": "https://localhost:8080/"
        },
        "id": "PHiyieWQt9-0",
        "outputId": "8f30585c-061a-4c45-e2a4-a4b612008662"
      },
      "execution_count": 15,
      "outputs": [
        {
          "output_type": "stream",
          "name": "stdout",
          "text": [
            "0    1\n",
            "1    1\n",
            "2    0\n",
            "3    1\n",
            "4    1\n",
            "Name: satisfaction, dtype: int64\n"
          ]
        }
      ]
    },
    {
      "cell_type": "code",
      "source": [
        "# Identify numeric columns\n",
        "numeric_cols = df.select_dtypes(include=['float64', 'int64']).columns.tolist()\n",
        "\n",
        "if 'satisfaction' in numeric_cols:\n",
        "    numeric_cols.remove('satisfaction')\n",
        "\n",
        "# Proceed with scaling\n",
        "from sklearn.preprocessing import MinMaxScaler\n",
        "scaler = MinMaxScaler()\n",
        "df[numeric_cols] = scaler.fit_transform(df[numeric_cols])\n",
        "\n",
        "print(df.head())\n"
      ],
      "metadata": {
        "colab": {
          "base_uri": "https://localhost:8080/"
        },
        "id": "cgPMxoutuGRg",
        "outputId": "ba337510-e17a-4a95-d284-62ebcbd7c6ac"
      },
      "execution_count": 17,
      "outputs": [
        {
          "output_type": "stream",
          "name": "stdout",
          "text": [
            "   Unnamed: 0        id       Age  Flight Distance  Inflight wifi service  \\\n",
            "0    0.000000  0.150462  0.576923         0.026050                    1.0   \n",
            "1    0.000038  0.693193  0.371795         0.571890                    0.2   \n",
            "2    0.000077  0.095049  0.166667         0.032512                    0.4   \n",
            "3    0.000115  0.600200  0.474359         0.675687                    0.0   \n",
            "4    0.000154  0.283829  0.538462         0.232431                    0.4   \n",
            "\n",
            "   Departure/Arrival time convenient  Ease of Online booking  Gate location  \\\n",
            "0                                0.8                     0.6           0.75   \n",
            "1                                0.2                     0.6           0.00   \n",
            "2                                0.0                     0.4           0.75   \n",
            "3                                0.0                     0.0           0.25   \n",
            "4                                0.6                     0.8           0.50   \n",
            "\n",
            "   Food and drink  Online boarding  ...  Inflight service  Cleanliness  \\\n",
            "0             0.6              0.8  ...               1.0          1.0   \n",
            "1             1.0              0.8  ...               0.8          1.0   \n",
            "2             0.4              0.4  ...               0.4          0.4   \n",
            "3             0.6              0.8  ...               0.2          0.8   \n",
            "4             0.8              0.2  ...               0.4          0.8   \n",
            "\n",
            "   Departure Delay in Minutes  Arrival Delay in Minutes  satisfaction  \\\n",
            "0                    0.044326                  0.039462             1   \n",
            "1                    0.000000                  0.000000             1   \n",
            "2                    0.000000                  0.000000             0   \n",
            "3                    0.000000                  0.005381             1   \n",
            "4                    0.000000                  0.017937             1   \n",
            "\n",
            "   Gender_1  Customer Type_1  Type of Travel_1  Class_1  Class_2  \n",
            "0     False            False             False     True    False  \n",
            "1     False            False             False    False    False  \n",
            "2      True             True             False     True    False  \n",
            "3      True            False             False    False    False  \n",
            "4     False            False             False     True    False  \n",
            "\n",
            "[5 rows x 26 columns]\n"
          ]
        }
      ]
    },
    {
      "cell_type": "code",
      "source": [
        "# Debugging checks\n",
        "print(\"Numeric Columns:\", numeric_cols)\n",
        "print(\"Data Types:\\n\", df.dtypes)\n"
      ],
      "metadata": {
        "colab": {
          "base_uri": "https://localhost:8080/"
        },
        "id": "uUjctj6SuOHy",
        "outputId": "79d1ff0f-df06-460c-9cdb-3c775de93cbb"
      },
      "execution_count": 18,
      "outputs": [
        {
          "output_type": "stream",
          "name": "stdout",
          "text": [
            "Numeric Columns: ['Unnamed: 0', 'id', 'Age', 'Flight Distance', 'Inflight wifi service', 'Departure/Arrival time convenient', 'Ease of Online booking', 'Gate location', 'Food and drink', 'Online boarding', 'Seat comfort', 'Inflight entertainment', 'On-board service', 'Leg room service', 'Baggage handling', 'Checkin service', 'Inflight service', 'Cleanliness', 'Departure Delay in Minutes', 'Arrival Delay in Minutes']\n",
            "Data Types:\n",
            " Unnamed: 0                           float64\n",
            "id                                   float64\n",
            "Age                                  float64\n",
            "Flight Distance                      float64\n",
            "Inflight wifi service                float64\n",
            "Departure/Arrival time convenient    float64\n",
            "Ease of Online booking               float64\n",
            "Gate location                        float64\n",
            "Food and drink                       float64\n",
            "Online boarding                      float64\n",
            "Seat comfort                         float64\n",
            "Inflight entertainment               float64\n",
            "On-board service                     float64\n",
            "Leg room service                     float64\n",
            "Baggage handling                     float64\n",
            "Checkin service                      float64\n",
            "Inflight service                     float64\n",
            "Cleanliness                          float64\n",
            "Departure Delay in Minutes           float64\n",
            "Arrival Delay in Minutes             float64\n",
            "satisfaction                           int64\n",
            "Gender_1                                bool\n",
            "Customer Type_1                         bool\n",
            "Type of Travel_1                        bool\n",
            "Class_1                                 bool\n",
            "Class_2                                 bool\n",
            "dtype: object\n"
          ]
        }
      ]
    },
    {
      "cell_type": "code",
      "source": [
        "# Handle missing values\n",
        "df = df.fillna(df.mean())  # Filling numeric columns with the mean\n",
        "\n",
        "# Normalize numeric data\n",
        "from sklearn.preprocessing import MinMaxScaler\n",
        "\n",
        "scaler = MinMaxScaler()\n",
        "numeric_cols = ['Age', 'Flight Distance', 'Departure Delay in Minutes']\n",
        "df[numeric_cols] = scaler.fit_transform(df[numeric_cols])\n",
        "\n",
        "# Encode categorical variables\n",
        "df = pd.get_dummies(df, columns=['Gender_1', 'Customer Type_1', 'Type of Travel_1'])\n",
        "print(df.info())\n"
      ],
      "metadata": {
        "colab": {
          "base_uri": "https://localhost:8080/"
        },
        "id": "zwug2dC9uRNf",
        "outputId": "7ebd5cc4-1e71-4686-bbd4-db412fdcea63"
      },
      "execution_count": 21,
      "outputs": [
        {
          "output_type": "stream",
          "name": "stdout",
          "text": [
            "<class 'pandas.core.frame.DataFrame'>\n",
            "RangeIndex: 25976 entries, 0 to 25975\n",
            "Data columns (total 29 columns):\n",
            " #   Column                             Non-Null Count  Dtype  \n",
            "---  ------                             --------------  -----  \n",
            " 0   Unnamed: 0                         25976 non-null  float64\n",
            " 1   id                                 25976 non-null  float64\n",
            " 2   Age                                25976 non-null  float64\n",
            " 3   Flight Distance                    25976 non-null  float64\n",
            " 4   Inflight wifi service              25976 non-null  float64\n",
            " 5   Departure/Arrival time convenient  25976 non-null  float64\n",
            " 6   Ease of Online booking             25976 non-null  float64\n",
            " 7   Gate location                      25976 non-null  float64\n",
            " 8   Food and drink                     25976 non-null  float64\n",
            " 9   Online boarding                    25976 non-null  float64\n",
            " 10  Seat comfort                       25976 non-null  float64\n",
            " 11  Inflight entertainment             25976 non-null  float64\n",
            " 12  On-board service                   25976 non-null  float64\n",
            " 13  Leg room service                   25976 non-null  float64\n",
            " 14  Baggage handling                   25976 non-null  float64\n",
            " 15  Checkin service                    25976 non-null  float64\n",
            " 16  Inflight service                   25976 non-null  float64\n",
            " 17  Cleanliness                        25976 non-null  float64\n",
            " 18  Departure Delay in Minutes         25976 non-null  float64\n",
            " 19  Arrival Delay in Minutes           25976 non-null  float64\n",
            " 20  satisfaction                       25976 non-null  int64  \n",
            " 21  Class_1                            25976 non-null  bool   \n",
            " 22  Class_2                            25976 non-null  bool   \n",
            " 23  Gender_1_False                     25976 non-null  bool   \n",
            " 24  Gender_1_True                      25976 non-null  bool   \n",
            " 25  Customer Type_1_False              25976 non-null  bool   \n",
            " 26  Customer Type_1_True               25976 non-null  bool   \n",
            " 27  Type of Travel_1_False             25976 non-null  bool   \n",
            " 28  Type of Travel_1_True              25976 non-null  bool   \n",
            "dtypes: bool(8), float64(20), int64(1)\n",
            "memory usage: 4.4 MB\n",
            "None\n"
          ]
        }
      ]
    },
    {
      "cell_type": "code",
      "source": [
        "# Create a new DataFrame for the training set with clusters\n",
        "train_df = X_train.copy()\n",
        "train_df['Cluster'] = clusters\n",
        "\n",
        "print(train_df.head())  # Verify clusters are added to the training set\n"
      ],
      "metadata": {
        "colab": {
          "base_uri": "https://localhost:8080/"
        },
        "id": "e2o-gpZYvB_z",
        "outputId": "8c975732-93b4-4698-9a9d-3e2da691759b"
      },
      "execution_count": 23,
      "outputs": [
        {
          "output_type": "stream",
          "name": "stdout",
          "text": [
            "       Unnamed: 0        id       Age  Flight Distance  Inflight wifi service  \\\n",
            "15026    0.578479  0.055229  0.217949         0.021002                    0.2   \n",
            "1957     0.075342  0.873864  0.512821         0.747981                    0.4   \n",
            "13238    0.509644  0.158825  0.256410         0.177706                    0.6   \n",
            "6013     0.231492  0.370306  0.615385         0.046042                    0.6   \n",
            "19848    0.764119  0.652249  0.410256         0.104200                    0.8   \n",
            "\n",
            "       Departure/Arrival time convenient  Ease of Online booking  \\\n",
            "15026                                0.4                     0.2   \n",
            "1957                                 0.4                     0.4   \n",
            "13238                                0.4                     0.6   \n",
            "6013                                 0.6                     0.8   \n",
            "19848                                0.8                     0.8   \n",
            "\n",
            "       Gate location  Food and drink  Online boarding  ...  \\\n",
            "15026           0.50             0.2              0.2  ...   \n",
            "1957            0.25             1.0              1.0  ...   \n",
            "13238           0.75             0.8              0.6  ...   \n",
            "6013            0.50             0.4              0.6  ...   \n",
            "19848           0.75             0.4              0.8  ...   \n",
            "\n",
            "       Arrival Delay in Minutes  Class_1  Class_2  Gender_1_False  \\\n",
            "15026                  0.001794     True    False            True   \n",
            "1957                   0.000000    False    False            True   \n",
            "13238                  0.014350     True    False           False   \n",
            "6013                   0.000000    False    False           False   \n",
            "19848                  0.000000    False    False            True   \n",
            "\n",
            "       Gender_1_True  Customer Type_1_False  Customer Type_1_True  \\\n",
            "15026          False                  False                  True   \n",
            "1957           False                   True                 False   \n",
            "13238           True                   True                 False   \n",
            "6013            True                   True                 False   \n",
            "19848          False                   True                 False   \n",
            "\n",
            "       Type of Travel_1_False  Type of Travel_1_True  Cluster  \n",
            "15026                    True                  False        1  \n",
            "1957                     True                  False        2  \n",
            "13238                   False                   True        0  \n",
            "6013                     True                  False        2  \n",
            "19848                    True                  False        2  \n",
            "\n",
            "[5 rows x 29 columns]\n"
          ]
        }
      ]
    },
    {
      "cell_type": "code",
      "source": [
        "# Fit KMeans on the entire dataset\n",
        "kmeans = KMeans(n_clusters=3, random_state=42)\n",
        "clusters = kmeans.fit_predict(X)\n",
        "\n",
        "# Add clusters to the full DataFrame\n",
        "df['Cluster'] = clusters\n",
        "\n",
        "print(df.head())  # Verify clusters are added to the full dataset\n"
      ],
      "metadata": {
        "colab": {
          "base_uri": "https://localhost:8080/"
        },
        "id": "DtR4aydHvDNP",
        "outputId": "b5b9cf6d-6ed2-4add-f40e-57a7ae1ca485"
      },
      "execution_count": 24,
      "outputs": [
        {
          "output_type": "stream",
          "name": "stdout",
          "text": [
            "   Unnamed: 0        id       Age  Flight Distance  Inflight wifi service  \\\n",
            "0    0.000000  0.150462  0.576923         0.026050                    1.0   \n",
            "1    0.000038  0.693193  0.371795         0.571890                    0.2   \n",
            "2    0.000077  0.095049  0.166667         0.032512                    0.4   \n",
            "3    0.000115  0.600200  0.474359         0.675687                    0.0   \n",
            "4    0.000154  0.283829  0.538462         0.232431                    0.4   \n",
            "\n",
            "   Departure/Arrival time convenient  Ease of Online booking  Gate location  \\\n",
            "0                                0.8                     0.6           0.75   \n",
            "1                                0.2                     0.6           0.00   \n",
            "2                                0.0                     0.4           0.75   \n",
            "3                                0.0                     0.0           0.25   \n",
            "4                                0.6                     0.8           0.50   \n",
            "\n",
            "   Food and drink  Online boarding  ...  satisfaction  Class_1  Class_2  \\\n",
            "0             0.6              0.8  ...             1     True    False   \n",
            "1             1.0              0.8  ...             1    False    False   \n",
            "2             0.4              0.4  ...             0     True    False   \n",
            "3             0.6              0.8  ...             1    False    False   \n",
            "4             0.8              0.2  ...             1     True    False   \n",
            "\n",
            "   Gender_1_False  Gender_1_True  Customer Type_1_False  Customer Type_1_True  \\\n",
            "0            True          False                   True                 False   \n",
            "1            True          False                   True                 False   \n",
            "2           False           True                  False                  True   \n",
            "3           False           True                   True                 False   \n",
            "4            True          False                   True                 False   \n",
            "\n",
            "   Type of Travel_1_False  Type of Travel_1_True  Cluster  \n",
            "0                    True                  False        1  \n",
            "1                    True                  False        1  \n",
            "2                    True                  False        0  \n",
            "3                    True                  False        1  \n",
            "4                    True                  False        1  \n",
            "\n",
            "[5 rows x 30 columns]\n"
          ]
        }
      ]
    },
    {
      "cell_type": "code",
      "source": [
        "# Fit KMeans on the full dataset\n",
        "kmeans = KMeans(n_clusters=3, random_state=42)\n",
        "df['Cluster'] = kmeans.fit_predict(X)\n",
        "\n",
        "# Split data after clustering\n",
        "X = df.drop(columns=['satisfaction'])  # Features\n",
        "y = df['satisfaction']  # Target\n",
        "\n",
        "X_train, X_test, y_train, y_test = train_test_split(X, y, test_size=0.3, random_state=42)\n"
      ],
      "metadata": {
        "id": "rh2DwEhKvFg7"
      },
      "execution_count": 27,
      "outputs": []
    },
    {
      "cell_type": "code",
      "source": [
        "print(\"Length of clusters:\", len(clusters))\n",
        "print(\"Length of DataFrame:\", len(df))\n"
      ],
      "metadata": {
        "colab": {
          "base_uri": "https://localhost:8080/"
        },
        "id": "J34U6FTovLcT",
        "outputId": "eca1df64-e3a7-46a2-a2d8-62e34122c70b"
      },
      "execution_count": 28,
      "outputs": [
        {
          "output_type": "stream",
          "name": "stdout",
          "text": [
            "Length of clusters: 25976\n",
            "Length of DataFrame: 25976\n"
          ]
        }
      ]
    },
    {
      "source": [
        "from sklearn.model_selection import train_test_split\n",
        "from sklearn.ensemble import RandomForestClassifier\n",
        "from sklearn.cluster import KMeans\n",
        "\n",
        "# Split the data into features and labels\n",
        "X = df.drop(columns=['satisfaction'])\n",
        "y = df['satisfaction']\n",
        "\n",
        "# Train-test split\n",
        "X_train, X_test, y_train, y_test = train_test_split(X, y, test_size=0.3, random_state=42)\n",
        "\n",
        "# K-Means Clustering\n",
        "kmeans = KMeans(n_clusters=3, random_state=42)  # Assuming 3 customer segments\n",
        "# Fit KMeans on the entire dataset (X) instead of just the training data (X_train)\n",
        "clusters = kmeans.fit_predict(X)\n",
        "df['Cluster'] = clusters  # Now clusters and df have the same length\n",
        "\n",
        "# Random Forest Classifier for recommendations\n",
        "clf = RandomForestClassifier(n_estimators=100, random_state=42)\n",
        "clf.fit(X_train, y_train)\n",
        "\n",
        "# Evaluate\n",
        "print(f\"Model Accuracy: {clf.score(X_test, y_test) * 100:.2f}%\")"
      ],
      "cell_type": "code",
      "metadata": {
        "colab": {
          "base_uri": "https://localhost:8080/"
        },
        "id": "gogQNfRZvc2_",
        "outputId": "e8790ba6-185d-4f24-b364-a02f724e306f"
      },
      "execution_count": 30,
      "outputs": [
        {
          "output_type": "stream",
          "name": "stdout",
          "text": [
            "Model Accuracy: 95.33%\n"
          ]
        }
      ]
    },
    {
      "cell_type": "code",
      "source": [
        "from sklearn.metrics import classification_report\n",
        "\n",
        "y_pred = clf.predict(X_test)\n",
        "report = classification_report(y_test, y_pred)\n",
        "print(report)\n"
      ],
      "metadata": {
        "colab": {
          "base_uri": "https://localhost:8080/"
        },
        "id": "FWTVpSrDvftR",
        "outputId": "5ddfa2b4-3d1f-427e-859f-0092d8f12aa1"
      },
      "execution_count": 31,
      "outputs": [
        {
          "output_type": "stream",
          "name": "stdout",
          "text": [
            "              precision    recall  f1-score   support\n",
            "\n",
            "           0       0.95      0.97      0.96      4411\n",
            "           1       0.96      0.93      0.95      3382\n",
            "\n",
            "    accuracy                           0.95      7793\n",
            "   macro avg       0.95      0.95      0.95      7793\n",
            "weighted avg       0.95      0.95      0.95      7793\n",
            "\n"
          ]
        }
      ]
    },
    {
      "cell_type": "code",
      "source": [
        "import numpy as np\n",
        "\n",
        "# Simulate A/B testing results\n",
        "np.random.seed(42)\n",
        "group_a = np.random.choice([1, 0], size=1000, p=[0.85, 0.15])  # 85% satisfied\n",
        "group_b = np.random.choice([1, 0], size=1000, p=[0.65, 0.35])  # 65% satisfied\n",
        "\n",
        "# Analyze\n",
        "satisfaction_a = np.mean(group_a) * 100\n",
        "satisfaction_b = np.mean(group_b) * 100\n",
        "print(f\"Group A Satisfaction: {satisfaction_a:.2f}%\")\n",
        "print(f\"Group B Satisfaction: {satisfaction_b:.2f}%\")\n"
      ],
      "metadata": {
        "colab": {
          "base_uri": "https://localhost:8080/"
        },
        "id": "ZO6jIbbtvnTA",
        "outputId": "b9048064-90ba-46c5-9032-10f617dc11fe"
      },
      "execution_count": 32,
      "outputs": [
        {
          "output_type": "stream",
          "name": "stdout",
          "text": [
            "Group A Satisfaction: 84.70%\n",
            "Group B Satisfaction: 63.00%\n"
          ]
        }
      ]
    },
    {
      "cell_type": "code",
      "source": [
        "import matplotlib.pyplot as plt\n",
        "\n",
        "# Bar chart for A/B testing\n",
        "labels = ['Group A (Personalized)', 'Group B (Non-Personalized)']\n",
        "values = [satisfaction_a, satisfaction_b]\n",
        "\n",
        "plt.bar(labels, values, color=['blue', 'orange'])\n",
        "plt.title('A/B Testing Results')\n",
        "plt.ylabel('Satisfaction (%)')\n",
        "plt.show()\n"
      ],
      "metadata": {
        "colab": {
          "base_uri": "https://localhost:8080/",
          "height": 452
        },
        "id": "MZjSv4blvoko",
        "outputId": "45e6b015-a723-41d0-d267-7f08d809d7d9"
      },
      "execution_count": 33,
      "outputs": [
        {
          "output_type": "display_data",
          "data": {
            "text/plain": [
              "<Figure size 640x480 with 1 Axes>"
            ],
            "image/png": "[encoded data removed]"
          },
          "metadata": {}
        }
      ]
    }
  ]
}